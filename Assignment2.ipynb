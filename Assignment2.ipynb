{
  "nbformat": 4,
  "nbformat_minor": 0,
  "metadata": {
    "kernelspec": {
      "display_name": "Python 3",
      "language": "python",
      "name": "python3"
    },
    "language_info": {
      "codemirror_mode": {
        "name": "ipython",
        "version": 3
      },
      "file_extension": ".py",
      "mimetype": "text/x-python",
      "name": "python",
      "nbconvert_exporter": "python",
      "pygments_lexer": "ipython3",
      "version": "3.6.10"
    },
    "colab": {
      "name": "Assignment2.ipynb",
      "provenance": [],
      "collapsed_sections": [],
      "include_colab_link": true
    }
  },
  "cells": [
    {
      "cell_type": "markdown",
      "metadata": {
        "id": "view-in-github",
        "colab_type": "text"
      },
      "source": [
        "<a href=\"https://colab.research.google.com/github/Ozziekins/ColabWorks/blob/main/Assignment2.ipynb\" target=\"_parent\"><img src=\"https://colab.research.google.com/assets/colab-badge.svg\" alt=\"Open In Colab\"/></a>"
      ]
    },
    {
      "cell_type": "markdown",
      "metadata": {
        "id": "JWtEWTt0-pVp"
      },
      "source": [
        "# Assignment 2:\n",
        "\n",
        "In this assignment, you are going to solve three problems: \n",
        "\n",
        "1. Improving Nearest Neighbors Retrieval Speed (8 points)\n",
        "2. Gaussian Naive Bayes (4 points)\n",
        "3. PCA (3 points)"
      ]
    },
    {
      "cell_type": "markdown",
      "metadata": {
        "id": "CozjeLzj-pVr"
      },
      "source": [
        "## 1. Improving Nearest Neighbors Retrieval Speed (8 points)\n",
        "\n",
        "You are given a dataset of coordinates and information about places around the globe. Explore the dataset. You will be mostly working with 2d vectors which represent longitude and latitude."
      ]
    },
    {
      "cell_type": "code",
      "metadata": {
        "id": "JH7-Juiq-pVt",
        "outputId": "36ab4bf4-3a73-4f65-d74a-cdb47ef8e3a7"
      },
      "source": [
        "import pickle\n",
        "import matplotlib.pyplot as plt\n",
        "\n",
        "with open(\"poi_sample001.pickle\", \"rb\") as f:\n",
        "    dataset = pickle.load(f)\n",
        "    \n",
        "X = [v[0][0] for v in dataset]\n",
        "Y = [v[0][1] for v in dataset]\n",
        "\n",
        "plt.figure(figsize=(15, 10))\n",
        "a = plt.axes()\n",
        "a.set_xlabel('longitude')\n",
        "a.set_ylabel('latitude')\n",
        "plt.axhline(0, color='red')\n",
        "plt.axvline(0, color='black')\n",
        "plt.scatter(X, Y)\n",
        "plt.show()"
      ],
      "execution_count": null,
      "outputs": [
        {
          "output_type": "display_data",
          "data": {
            "image/png": "[encoded data removed]",
            "text/plain": [
              "<Figure size 1080x720 with 1 Axes>"
            ]
          },
          "metadata": {
            "tags": [],
            "needs_background": "light"
          }
        }
      ]
    },
    {
      "cell_type": "markdown",
      "metadata": {
        "id": "WilfjTt8-pV0"
      },
      "source": [
        "### 1.1 Simple NN Search\n",
        "\n",
        "Implement the simplest form of NN search (exhaustive search).\n",
        "Your function should: \n",
        "1. Calculate the distance between the test point and each dataset point using euclidean distance.\n",
        "2. Sort the dataset according to calculated distance in ascending order.\n",
        "3. Return the top K points from the sorted dataset.\n",
        "\n",
        "You need to implement this from scratch. Don't use library solutions. \n",
        "It is okay to use library function for eucliden distance."
      ]
    },
    {
      "cell_type": "code",
      "metadata": {
        "id": "jIIp_Xyt-pV2"
      },
      "source": [
        "def simple_nns(v, data, k):\n",
        "    \"\"\"\n",
        "    param: v: test point\n",
        "    param: data: dataset\n",
        "    param: k: number of nearest neighbors to retrive\n",
        "    return: list of nearest points from the dataset\n",
        "    \"\"\"\n",
        "    # implement simple NN Search\n",
        "    \n",
        "    return []"
      ],
      "execution_count": null,
      "outputs": []
    },
    {
      "cell_type": "markdown",
      "metadata": {
        "id": "k08aoSjE-pV9"
      },
      "source": [
        "Find the first 100 nearest neighbors of Paris. However, we are only interested in shops. Filter out everything that doesn't contain 'Shop' substring in the description and plot the remaining points."
      ]
    },
    {
      "cell_type": "code",
      "metadata": {
        "id": "cNflAZe8-pV-"
      },
      "source": [
        "paris = [2.334083, 48.853260]\n",
        "\n",
        "# find and plot the nearest neighbors according to the above instructions\n",
        "paris_nn = None\n",
        "\n",
        "\n",
        "# axes limits are set for better visualization, don't change them\n",
        "plt.ylim(48.5, 49)\n",
        "plt.xlim(2,3)\n",
        "plt.show()"
      ],
      "execution_count": null,
      "outputs": []
    },
    {
      "cell_type": "markdown",
      "metadata": {
        "id": "68uU0UD9-pWE"
      },
      "source": [
        "Measure retrieval time of `simple_nns` for every given number of nearest neighbors. Every time select some random point from the dataset. Plot the results."
      ]
    },
    {
      "cell_type": "code",
      "metadata": {
        "id": "S8l1hiXk-pWG"
      },
      "source": [
        "# numbers of nearest neghbors to retrieve\n",
        "nns = [10, 100, 1000, 10000, 20000, 40000]\n",
        "\n",
        "# measure retrival time for every value above and save it somewhere \n",
        "\n",
        "\n",
        "# plot the results\n",
        "\n"
      ],
      "execution_count": null,
      "outputs": []
    },
    {
      "cell_type": "markdown",
      "metadata": {
        "id": "JpJAVEGK-pWL"
      },
      "source": [
        "What do you observe? Do you see any trends, how can you explain them?\n",
        "\n",
        "<span style=\"color:blue\"> Your answer: </span>"
      ]
    },
    {
      "cell_type": "markdown",
      "metadata": {
        "id": "KpwZJxTD-pWM"
      },
      "source": [
        "### 1.2 Improving NNS\n",
        "\n",
        "Choose any method you like to speed up NN search, understand it thoroughly and learn how to apply it. Explain the way it works in few sentences and in your own words.\n",
        "\n",
        "<span style=\"color:blue\"> Your answer: </span>"
      ]
    },
    {
      "cell_type": "markdown",
      "metadata": {
        "id": "_dGMcAhm-pWN"
      },
      "source": [
        "Apply the chosen method on the geographic dataset. Similarly to the above, find the nearest neighbors and plot retrieval times."
      ]
    },
    {
      "cell_type": "code",
      "metadata": {
        "id": "8d74rFUy-pWO"
      },
      "source": [
        "# apply the chosen method\n",
        "\n",
        "\n"
      ],
      "execution_count": null,
      "outputs": []
    },
    {
      "cell_type": "markdown",
      "metadata": {
        "id": "Nu0OJY_L-pWU"
      },
      "source": [
        "Find the first 100 nearest neighbors of Paris. However, we are only interested in shops. Filter out everything that doesn't contain 'Shop' substring in the description and plot the remaining points."
      ]
    },
    {
      "cell_type": "code",
      "metadata": {
        "id": "feXhcXyZ-pWU"
      },
      "source": [
        "paris = [2.334083, 48.853260]\n",
        "\n",
        "# find and plot the nearest neighbors according to the above instructions\n",
        "paris_nn = None\n",
        "\n",
        "\n",
        "# axes limits are set for better visualization, don't change them\n",
        "plt.ylim(48.5, 49)\n",
        "plt.xlim(2,3)\n",
        "plt.show()"
      ],
      "execution_count": null,
      "outputs": []
    },
    {
      "cell_type": "markdown",
      "metadata": {
        "id": "BvNJQg0S-pWa"
      },
      "source": [
        "Measure retrieval time of `simple_nns` for every given number of nearest neighbors. Every time select some random point from the dataset. Plot the results."
      ]
    },
    {
      "cell_type": "code",
      "metadata": {
        "id": "drhxsfta-pWb"
      },
      "source": [
        "# numbers of nearest neghbors to retrieve\n",
        "nns = [10, 100, 1000, 10000, 20000, 40000]\n",
        "\n",
        "# measure retrival time for every value above and save it somewhere \n",
        "\n",
        "\n",
        "# plot the results\n",
        "\n"
      ],
      "execution_count": null,
      "outputs": []
    },
    {
      "cell_type": "markdown",
      "metadata": {
        "id": "WgR2hL0--pWf"
      },
      "source": [
        "What do you observe? Do you see any trends, how can you explain them?\n",
        "\n",
        "<span style=\"color:blue\"> Your answer: </span>"
      ]
    },
    {
      "cell_type": "markdown",
      "metadata": {
        "id": "dZqn7Ky9-pWf"
      },
      "source": [
        "### 1.3 Comparison\n",
        "\n",
        "Plot retrieval times together in the same plot. If time difference is big (as it should be), use a logarithmic scale for better visualization. If you don't achieve any time improvements, then you are doing something wrong."
      ]
    },
    {
      "cell_type": "code",
      "metadata": {
        "id": "LL0gTyKx-pWg"
      },
      "source": [
        "# plot retrieval times together\n",
        "\n"
      ],
      "execution_count": null,
      "outputs": []
    },
    {
      "cell_type": "markdown",
      "metadata": {
        "id": "_RNuD0Gp-pWj"
      },
      "source": [
        "Analyze the results and summarise them here. \n",
        "\n",
        "<span style=\"color:blue\"> Your answer: </span>"
      ]
    },
    {
      "cell_type": "markdown",
      "metadata": {
        "id": "T7fzhAr0-pWk"
      },
      "source": [
        "## 2. Gaussian Naive Bayes (4 points)\n",
        "\n",
        "Finish the implementation of Gaussian NB."
      ]
    },
    {
      "cell_type": "code",
      "metadata": {
        "id": "WNboesyF-pWl"
      },
      "source": [
        "import collections\n",
        "import numpy as np\n",
        "import math\n",
        "from scipy.stats import norm\n",
        "\n",
        "class GaussianNB:\n",
        "    def priors(self, y):\n",
        "        temp_dict = collections.Counter(y)\n",
        "        prior_probs = np.ones(len(np.unique(y)))\n",
        "        for i in range(len(np.unique(y))):\n",
        "            prior_probs[i] = temp_dict[i]/y.shape[0]\n",
        "        return prior_probs\n",
        "\n",
        "    def fit(self, X_train, y_train):\n",
        "        \"\"\"\n",
        "        fit classifier, i.e. calculate needed statistics\n",
        "        \"\"\"\n",
        "        ### START CODE HERE ###\n",
        "        \n",
        "        self.prior = self.priors(y_train)\n",
        "        self.means, self.std = self.mean_std(X_train, y_train)\n",
        "        \n",
        "        ### END CODE HERE ###\n",
        "\n",
        "    def mean_std(self, X, y):\n",
        "        self.y = y\n",
        "        means = []\n",
        "        stds = []\n",
        "        for i in np.unique(y):\n",
        "            points = X[y == i]\n",
        "            means.append(points.mean(axis=0))\n",
        "            stds.append(points.std(axis=0))\n",
        "        return means, stds\n",
        "\n",
        "\n",
        "    def prob_feature_class(self, mean, std, x):\n",
        "        return 1/(np.sqrt(2*(np.pi)*std)) * np.exp((-(x-mean)**2)/(2*std))\n",
        "        # return (1 / (std * ((2 * math.pi) ** 0.5) )) * math.exp(- 0.5 * (((x - mean) / std) ** 2))\n",
        "\n",
        "    def predict(self, X_test):\n",
        "        \"\"\"\n",
        "        predict class labels for test data points\n",
        "        param: test_data: list of data points to be classified\n",
        "        return: predictions (class labels)\n",
        "        \"\"\"\n",
        "        ### START CODE HERE ###\n",
        "        predictions = []\n",
        "        pre_probab = self.prior\n",
        "        temp_prob = 0\n",
        "        for i in range(len(X_test)):\n",
        "            total_prob = []\n",
        "            for j in range(len(np.unique(self.y))):\n",
        "                temp_prob = np.log(pre_probab[j])\n",
        "                for n in range(len(X_test[i])):\n",
        "                    temp_prob = temp_prob + np.log(self.prob_feature_class(self.means[j][n], self.std[j][n], X_test[i][n]))\n",
        "                total_prob.append(temp_prob)\n",
        "            total_prob = np.asarray(total_prob)\n",
        "            predictions.append(np.unique(self.y)[total_prob.argmax()])\n",
        "        \n",
        "        ### END CODE HERE ###\n",
        "        return predictions\n",
        "\n"
      ],
      "execution_count": null,
      "outputs": []
    },
    {
      "cell_type": "code",
      "metadata": {
        "id": "UTP_15an-pWr",
        "colab": {
          "base_uri": "https://localhost:8080/",
          "height": 34
        },
        "outputId": "177001ec-458d-4feb-a8a6-3361d13c61fa"
      },
      "source": [
        "from sklearn.model_selection import train_test_split\n",
        "from sklearn.metrics import accuracy_score\n",
        "from sklearn.datasets import load_iris\n",
        "\n",
        "iris = load_iris()\n",
        "X_train, X_test, y_train, y_test = train_test_split(iris.data, iris.target, test_size=0.2, random_state=0)\n",
        "\n",
        "gnb = GaussianNB()\n",
        "gnb.fit(X_train, y_train)\n",
        "y_pred = gnb.predict(X_test)\n",
        "\n",
        "\n",
        "# You should get the accuracy score not less than 90%.\n",
        "print(accuracy_score(y_test, y_pred))"
      ],
      "execution_count": null,
      "outputs": [
        {
          "output_type": "stream",
          "text": [
            "0.9666666666666667\n"
          ],
          "name": "stdout"
        }
      ]
    },
    {
      "cell_type": "markdown",
      "metadata": {
        "id": "lcuV3c3d-pWw"
      },
      "source": [
        "## 3. PCA\n",
        "\n",
        "Apply PCA to the Digits dataset, produce the scree plot for the given data and decide the optimal number of PCs to keep. Calculate and print their total explained variance."
      ]
    },
    {
      "cell_type": "code",
      "metadata": {
        "id": "7QrVkqgR-pWx"
      },
      "source": [
        "from sklearn.datasets import load_digits\n",
        "X, y = load_digits(return_X_y=True)\n",
        "\n",
        "# apply PCA\n",
        "\n",
        "\n",
        "# make scree plot\n",
        "\n",
        "\n",
        "# choose the number PCs and calculate and print their total explained variance\n",
        "\n"
      ],
      "execution_count": null,
      "outputs": []
    },
    {
      "cell_type": "markdown",
      "metadata": {
        "id": "y25UkDQg-pW0"
      },
      "source": [
        "Thoroughly justify your choice - this is the main part of the work for this task.\n",
        "\n",
        "<span style=\"color:blue\"> Your answer: </span>"
      ]
    }
  ]
}