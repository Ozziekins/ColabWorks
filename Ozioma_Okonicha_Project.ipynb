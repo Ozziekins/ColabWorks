{
  "nbformat": 4,
  "nbformat_minor": 0,
  "metadata": {
    "colab": {
      "name": "Ozioma_Okonicha_Project.ipynb",
      "provenance": [],
      "collapsed_sections": [],
      "authorship_tag": "ABX9TyNpAVkd4oI4QPdC+EdbwZSC",
      "include_colab_link": true
    },
    "kernelspec": {
      "name": "python3",
      "display_name": "Python 3"
    },
    "accelerator": "GPU"
  },
  "cells": [
    {
      "cell_type": "markdown",
      "metadata": {
        "id": "view-in-github",
        "colab_type": "text"
      },
      "source": [
        "<a href=\"https://colab.research.google.com/github/Ozziekins/ColabWorks/blob/main/Ozioma_Okonicha_Project.ipynb\" target=\"_parent\"><img src=\"https://colab.research.google.com/assets/colab-badge.svg\" alt=\"Open In Colab\"/></a>"
      ]
    },
    {
      "cell_type": "code",
      "metadata": {
        "id": "2DI0AH3PIH9B",
        "colab": {
          "base_uri": "https://localhost:8080/",
          "height": 34
        },
        "outputId": "d6d896bd-ed9b-4b18-d8c0-ad12fdfbf29b"
      },
      "source": [
        "from tensorflow.keras import *\n",
        "import numpy as np\n",
        "\n",
        "x = np.load('x.npy')\n",
        "y = np.load('y.npy')\n",
        "\n",
        "print(x.shape)"
      ],
      "execution_count": null,
      "outputs": [
        {
          "output_type": "stream",
          "text": [
            "(50000, 28, 28, 1)\n"
          ],
          "name": "stdout"
        }
      ]
    },
    {
      "cell_type": "code",
      "metadata": {
        "id": "PVqTYGf8C4nf",
        "colab": {
          "base_uri": "https://localhost:8080/",
          "height": 307
        },
        "outputId": "262598a3-7134-49ff-86be-f8494fb4e7db"
      },
      "source": [
        "import csv\n",
        "import matplotlib.pyplot as plt\n",
        "import matplotlib.image as mpimg\n",
        "import seaborn as sns\n",
        "%matplotlib inline\n",
        "\n",
        "# g = plt.imshow(x[0][:,:,0])\n",
        "\n",
        "X = x.reshape(x.shape[0], 28, 28)\n",
        "Y = utils.to_categorical(y)\n",
        "\n",
        "fig, axis = plt.subplots(1, 4, figsize=(20, 10))\n",
        "for i, ax in enumerate(axis.flat):\n",
        "    ax.imshow(X[i], cmap='binary')\n",
        "    digit = Y[i].argmax()\n",
        "    ax.set(title = f\"Real Number is {digit}\");"
      ],
      "execution_count": null,
      "outputs": [
        {
          "output_type": "display_data",
          "data": {
            "image/png": "[encoded data removed]",
            "text/plain": [
              "<Figure size 1440x720 with 4 Axes>"
            ]
          },
          "metadata": {
            "tags": [],
            "needs_background": "light"
          }
        }
      ]
    },
    {
      "cell_type": "code",
      "metadata": {
        "id": "Lf9IGUgFKZ8P",
        "colab": {
          "base_uri": "https://localhost:8080/",
          "height": 307
        },
        "outputId": "b9fe862a-9eae-4219-fe7c-60212a9cb449"
      },
      "source": [
        "vertical_kernel = np.array([[-1, 0, 1], \n",
        "                            [-1, 0, 1], \n",
        "                            [-1, 0, 1]])\n",
        "\n",
        "horizontal_kernel = np.array([[1, 1, 1], \n",
        "                              [0, 0, 0], \n",
        "                              [-1, -1, -1]])\n",
        "\n",
        "def convolve(img, kernel):\n",
        "        # result = np.zeros(img.shape)\n",
        "        # apply kernel on input image such that the image size is preserved\n",
        "        n, f = img.shape[0], kernel.shape[0]\n",
        "    \n",
        "        # Add padding to the input image\n",
        "        img = np.pad(img, (f - 1) // 2)\n",
        "\n",
        "        # Apply kernel on the input image\n",
        "        result = np.zeros(img.shape)\n",
        "        for i in range(n):\n",
        "            for j in range(n):\n",
        "                result[i, j] = np.sum(img[i : i+f, j : j+f] * kernel)\n",
        "        \n",
        "        return result\n",
        "\n",
        "# c = convolve(gray_image, vertical_kernel)\n",
        "# plt.imshow(c)\n",
        "\n",
        "fig, axis = plt.subplots(1, 4, figsize=(20, 10))\n",
        "for i, ax in enumerate(axis.flat):\n",
        "    ax.imshow(convolve(X[i], vertical_kernel), cmap='binary')\n",
        "    digit = Y[i].argmax()\n",
        "    ax.set(title = f\"Real Number is {digit}\");\n",
        "\n",
        "\n",
        "def myFunc(X):\n",
        "    for i in range(X.shape[0]):\n",
        "        X[i] = convolve(X[i], vertical_kernel)\n",
        "    return X"
      ],
      "execution_count": null,
      "outputs": [
        {
          "output_type": "display_data",
          "data": {
            "image/png": "[encoded data removed]",
            "text/plain": [
              "<Figure size 1440x720 with 4 Axes>"
            ]
          },
          "metadata": {
            "tags": [],
            "needs_background": "light"
          }
        }
      ]
    },
    {
      "cell_type": "code",
      "metadata": {
        "id": "5NT1_F4KBrmw"
      },
      "source": [
        "def my_model():\n",
        "    model = Sequential()\n",
        "    model.add(layers.Conv2D(filters=96, kernel_size=5,\n",
        "                     input_shape=(28, 28, 1), activation='relu', use_bias=False))\n",
        "    model.add(layers.Conv2D(filters=96, kernel_size=3,\n",
        "                            activation='relu',\n",
        "                            use_bias=False))\n",
        "    model.add(layers.MaxPool2D(pool_size=2, strides=2))\n",
        "    model.add(layers.BatchNormalization())\n",
        "    model.add(layers.Dropout(0.2))\n",
        "    model.add(layers.Conv2D(filters=128, kernel_size=3,\n",
        "                     activation='relu', use_bias=False))\n",
        "    # model.add(layers.Conv2D(filters=128, kernel_size=2,\n",
        "    #                  activation='relu', use_bias=False))\n",
        "    model.add(layers.MaxPool2D(pool_size=2, strides=1))\n",
        "    model.add(layers.Dropout(0.2))\n",
        "    model.add(layers.BatchNormalization())\n",
        "\n",
        "    model.add(layers.Flatten())\n",
        "    model.add(layers.Dense(128, kernel_regularizer=regularizers.l2(0.01),\n",
        "                           bias_regularizer=regularizers.l2(0.0001),\n",
        "                           activity_regularizer=regularizers.l2(0.000001),\n",
        "                           activation='relu', use_bias=False))\n",
        "    model.add(layers.BatchNormalization())\n",
        "    model.add(layers.Dropout(0.5))\n",
        "    model.add(layers.Dense(96, kernel_regularizer=regularizers.l2(0.01),\n",
        "                           bias_regularizer=regularizers.l2(0.0001),\n",
        "                           activity_regularizer=regularizers.l2(0.000001),\n",
        "                           activation='relu', use_bias=False))\n",
        "    model.add(layers.BatchNormalization())\n",
        "    model.add(layers.Dropout(0.5))\n",
        "    model.add(layers.Dense(10, activation='softmax'))\n",
        "\n",
        "    return model\n"
      ],
      "execution_count": null,
      "outputs": []
    },
    {
      "cell_type": "code",
      "metadata": {
        "id": "FE7drmH4DdjA"
      },
      "source": [
        "model = my_model()\n",
        "# model.load_weights(\"weights.best.hdf5\")\n",
        "model.compile(optimizers.Adam(1e-4, clipnorm=1),\n",
        "              loss='sparse_categorical_crossentropy',\n",
        "              metrics=['accuracy'])\n"
      ],
      "execution_count": null,
      "outputs": []
    },
    {
      "cell_type": "code",
      "metadata": {
        "id": "GZXAkjC1FDnJ"
      },
      "source": [
        "early_stopping = callbacks.EarlyStopping(monitor='val_accuracy',\n",
        "                                         patience=10,\n",
        "                                         restore_best_weights=True)\n"
      ],
      "execution_count": null,
      "outputs": []
    },
    {
      "cell_type": "code",
      "metadata": {
        "id": "jRkg5x3LFkRm"
      },
      "source": [
        "lr_schedule = callbacks.ReduceLROnPlateau(monitor='val_accuracy',\n",
        "                                          factor=0.3,\n",
        "                                          patience=6)\n",
        "\n",
        "learning_rate_reduction = callbacks.ReduceLROnPlateau(monitor='val_accuracy', \n",
        "                                            patience=5, \n",
        "                                            verbose=0, \n",
        "                                            factor=0.5, \n",
        "                                            min_lr=0.01)"
      ],
      "execution_count": null,
      "outputs": []
    },
    {
      "cell_type": "code",
      "metadata": {
        "id": "t0K_kzVXF8tU"
      },
      "source": [
        "import math\n",
        "\n",
        "def schedule(epoch_idx, lr):\n",
        "    if epoch_idx == 10:\n",
        "        return lr * 0.35\n",
        "    if epoch_idx == 20:\n",
        "        return lr * 0.35\n",
        "    return lr\n",
        "\n",
        "# def exp_decay(epoch):\n",
        "#    initial_lrate = 0.1\n",
        "#    k = 0.1\n",
        "#    lrate = initial_lrate * math.exp(-k*t)\n",
        "#    return lrate\n",
        "\n",
        "exp_decay = optimizers.schedules.ExponentialDecay(\n",
        "    initial_learning_rate=0.1,\n",
        "    decay_steps=10000,\n",
        "    decay_rate=0.9)\n",
        "\n",
        "def step_decay(epoch):\n",
        "\tinitial_lrate = 0.1\n",
        "\tdrop = 0.5\n",
        "\tepochs_drop = 10.0\n",
        "\tlrate = initial_lrate * math.pow(drop, math.floor((1+epoch)/epochs_drop))\n",
        "\treturn lrate\n",
        "\n",
        "def lr_scheduler(epoch, lr):\n",
        "    decay_rate = 0.1\n",
        "    decay_step = 90\n",
        "    if epoch % decay_step == 0 and epoch:\n",
        "        return lr * decay_rate\n",
        "    return lr\n",
        "\n",
        "lr_schedule2 = callbacks.LearningRateScheduler(lr_scheduler)\n"
      ],
      "execution_count": null,
      "outputs": []
    },
    {
      "cell_type": "code",
      "metadata": {
        "id": "Drzy-XfKg4YU"
      },
      "source": [
        "LR_SCHEDULE = [\n",
        "    # (epoch to start, learning rate) tuples\n",
        "    (3, 0.05),\n",
        "    (6, 0.01),\n",
        "    (9, 0.005),\n",
        "    (12, 0.001),\n",
        "]\n",
        "\n",
        "\n",
        "def lrSchedule(epoch, lr):\n",
        "    \"\"\"Helper function to retrieve the scheduled learning rate based on epoch.\"\"\"\n",
        "    if epoch < LR_SCHEDULE[0][0] or epoch > LR_SCHEDULE[-1][0]:\n",
        "        return lr\n",
        "    for i in range(len(LR_SCHEDULE)):\n",
        "        if epoch == LR_SCHEDULE[i][0]:\n",
        "            return LR_SCHEDULE[i][1]\n",
        "    return lr\n",
        "\n",
        "new_lr_schedule = callbacks.LearningRateScheduler(lrSchedule)"
      ],
      "execution_count": null,
      "outputs": []
    },
    {
      "cell_type": "code",
      "metadata": {
        "id": "taP-KQfkIXUv"
      },
      "source": [
        "class LrRangeFinder(callbacks.Callback):\n",
        "  def __init__(self, start_lr, end_lr):\n",
        "    super().__init__()\n",
        "    self.start_lr = start_lr\n",
        "    self.end_lr = end_lr\n",
        "\n",
        "  def on_train_begin(self, logs={}):\n",
        "    self.lrs = []\n",
        "    self.losses = []\n",
        "    backend.set_value(self.model.optimizer.lr, self.start_lr)\n",
        "\n",
        "    n_steps = self.params['steps'] if self.params['steps'] is not None else round(self.params['samples'] / self.params['batch_size'])\n",
        "    n_steps *= self.params['epochs']\n",
        "    self.by = (self.end_lr - self.start_lr) / n_steps\n",
        "\n",
        "\n",
        "  def on_batch_end(self, batch, logs={}):\n",
        "    lr = float(backend.get_value(self.model.optimizer.lr))\n",
        "    self.lrs.append(lr)\n",
        "    self.losses.append(logs.get('loss'))\n",
        "    lr += self.by\n",
        "    backend.set_value(self.model.optimizer.lr, lr)"
      ],
      "execution_count": null,
      "outputs": []
    },
    {
      "cell_type": "code",
      "metadata": {
        "id": "gEqoHQjjIN2l"
      },
      "source": [
        "lrRangeFinder = LrRangeFinder(start_lr=0.1, end_lr=2)"
      ],
      "execution_count": null,
      "outputs": []
    },
    {
      "cell_type": "code",
      "metadata": {
        "id": "Z9goTdoso6sr"
      },
      "source": [
        "checkpoint = callbacks.ModelCheckpoint(\"weights.best.hdf5\", monitor='val_accuracy', verbose=1, save_best_only=True, mode='max')"
      ],
      "execution_count": null,
      "outputs": []
    },
    {
      "cell_type": "code",
      "metadata": {
        "id": "VHczCosJKzIx"
      },
      "source": [
        "# generator = preprocessing.image.ImageDataGenerator(rotation_range=20,\n",
        "#                                width_shift_range=0.1,\n",
        "#                                height_shift_range=0.1,\n",
        "#                                zoom_range=0.15,\n",
        "#                                horizontal_flip=False,\n",
        "#                                validation_split=0.15)\n",
        "\n",
        "\n",
        "generator = preprocessing.image.ImageDataGenerator(\n",
        "        featurewise_center=False,  # set input mean to 0 over the dataset\n",
        "        samplewise_center=False,  # set each sample mean to 0\n",
        "        featurewise_std_normalization=False,  # divide inputs by std of the dataset\n",
        "        samplewise_std_normalization=False,  # divide each input by its std\n",
        "        zca_whitening=False,  # apply ZCA whitening\n",
        "        rotation_range=21.5,  # randomly rotate images in the range (degrees, 0 to 180)\n",
        "        zoom_range = 0.2, # Randomly zoom image \n",
        "        width_shift_range=0.15,  # randomly shift images horizontally (fraction of total width)\n",
        "        height_shift_range=0.15,  # randomly shift images vertically (fraction of total height)\n",
        "        horizontal_flip=False,  # randomly flip images\n",
        "        vertical_flip=False,\n",
        "        validation_split=0.25,\n",
        "        brightness_range=(0.15, 0.45),\n",
        "        shear_range=0.15)\n",
        "\n",
        "\n",
        "# generator = preprocessing.image.ImageDataGenerator(\n",
        "#         featurewise_center=False, samplewise_center=False,\n",
        "#         featurewise_std_normalization=False, samplewise_std_normalization=False,\n",
        "#         zca_whitening=False, zca_epsilon=1e-06, rotation_range=0, width_shift_range=0.0,\n",
        "#         height_shift_range=0.0, brightness_range=None, shear_range=0.0, zoom_range=0.0,\n",
        "#         channel_shift_range=0.0, fill_mode='nearest', cval=0.0, horizontal_flip=False,\n",
        "#         vertical_flip=False, rescale=None, preprocessing_function=None,\n",
        "#         data_format=None, validation_split=0.25, dtype=None)\n",
        "\n",
        "\n",
        "generator.fit(x)\n"
      ],
      "execution_count": null,
      "outputs": []
    },
    {
      "cell_type": "code",
      "metadata": {
        "id": "KOQmszKYQXiq",
        "colab": {
          "base_uri": "https://localhost:8080/",
          "height": 731
        },
        "outputId": "fdc4dee3-6903-40af-e4c9-7bb58b268755"
      },
      "source": [
        "model.summary()"
      ],
      "execution_count": null,
      "outputs": [
        {
          "output_type": "stream",
          "text": [
            "Model: \"sequential\"\n",
            "_________________________________________________________________\n",
            "Layer (type)                 Output Shape              Param #   \n",
            "=================================================================\n",
            "conv2d (Conv2D)              (None, 24, 24, 96)        2400      \n",
            "_________________________________________________________________\n",
            "conv2d_1 (Conv2D)            (None, 22, 22, 96)        82944     \n",
            "_________________________________________________________________\n",
            "max_pooling2d (MaxPooling2D) (None, 11, 11, 96)        0         \n",
            "_________________________________________________________________\n",
            "batch_normalization (BatchNo (None, 11, 11, 96)        384       \n",
            "_________________________________________________________________\n",
            "dropout (Dropout)            (None, 11, 11, 96)        0         \n",
            "_________________________________________________________________\n",
            "conv2d_2 (Conv2D)            (None, 9, 9, 128)         110592    \n",
            "_________________________________________________________________\n",
            "max_pooling2d_1 (MaxPooling2 (None, 8, 8, 128)         0         \n",
            "_________________________________________________________________\n",
            "dropout_1 (Dropout)          (None, 8, 8, 128)         0         \n",
            "_________________________________________________________________\n",
            "batch_normalization_1 (Batch (None, 8, 8, 128)         512       \n",
            "_________________________________________________________________\n",
            "flatten (Flatten)            (None, 8192)              0         \n",
            "_________________________________________________________________\n",
            "dense (Dense)                (None, 128)               1048576   \n",
            "_________________________________________________________________\n",
            "batch_normalization_2 (Batch (None, 128)               512       \n",
            "_________________________________________________________________\n",
            "dropout_2 (Dropout)          (None, 128)               0         \n",
            "_________________________________________________________________\n",
            "dense_1 (Dense)              (None, 96)                12288     \n",
            "_________________________________________________________________\n",
            "batch_normalization_3 (Batch (None, 96)                384       \n",
            "_________________________________________________________________\n",
            "dropout_3 (Dropout)          (None, 96)                0         \n",
            "_________________________________________________________________\n",
            "dense_2 (Dense)              (None, 10)                970       \n",
            "=================================================================\n",
            "Total params: 1,259,562\n",
            "Trainable params: 1,258,666\n",
            "Non-trainable params: 896\n",
            "_________________________________________________________________\n"
          ],
          "name": "stdout"
        }
      ]
    },
    {
      "cell_type": "code",
      "metadata": {
        "id": "y4r-F2vGD11p",
        "colab": {
          "base_uri": "https://localhost:8080/",
          "height": 1000
        },
        "outputId": "fd73493e-4b83-4876-824b-3d7c41e2bc03"
      },
      "source": [
        "model.fit(generator.flow(x, y, batch_size=32),\n",
        "          validation_data=generator.flow(x,y, batch_size=32, subset='validation'),\n",
        "          steps_per_epoch=len(x)/32,\n",
        "          epochs=45, verbose=2, \n",
        "          callbacks=[early_stopping, lr_schedule2])"
      ],
      "execution_count": null,
      "outputs": [
        {
          "output_type": "stream",
          "text": [
            "Epoch 1/45\n",
            "1563/1562 - 31s - loss: 4.5311 - accuracy: 0.5585 - val_loss: 2.8031 - val_accuracy: 0.8866\n",
            "Epoch 2/45\n",
            "1563/1562 - 31s - loss: 2.3006 - accuracy: 0.8439 - val_loss: 1.4708 - val_accuracy: 0.9384\n",
            "Epoch 3/45\n",
            "1563/1562 - 31s - loss: 1.3169 - accuracy: 0.8940 - val_loss: 0.8733 - val_accuracy: 0.9505\n",
            "Epoch 4/45\n",
            "1563/1562 - 31s - loss: 0.8498 - accuracy: 0.9168 - val_loss: 0.5672 - val_accuracy: 0.9632\n",
            "Epoch 5/45\n",
            "1563/1562 - 31s - loss: 0.6348 - accuracy: 0.9262 - val_loss: 0.4479 - val_accuracy: 0.9603\n",
            "Epoch 6/45\n",
            "1563/1562 - 31s - loss: 0.5167 - accuracy: 0.9343 - val_loss: 0.3607 - val_accuracy: 0.9674\n",
            "Epoch 7/45\n",
            "1563/1562 - 31s - loss: 0.4480 - accuracy: 0.9385 - val_loss: 0.3081 - val_accuracy: 0.9723\n",
            "Epoch 8/45\n",
            "1563/1562 - 31s - loss: 0.3957 - accuracy: 0.9442 - val_loss: 0.2700 - val_accuracy: 0.9735\n",
            "Epoch 9/45\n",
            "1563/1562 - 31s - loss: 0.3551 - accuracy: 0.9485 - val_loss: 0.2532 - val_accuracy: 0.9713\n",
            "Epoch 10/45\n",
            "1563/1562 - 31s - loss: 0.3388 - accuracy: 0.9507 - val_loss: 0.2310 - val_accuracy: 0.9758\n",
            "Epoch 11/45\n",
            "1563/1562 - 31s - loss: 0.3179 - accuracy: 0.9523 - val_loss: 0.2276 - val_accuracy: 0.9748\n",
            "Epoch 12/45\n",
            "1563/1562 - 31s - loss: 0.3057 - accuracy: 0.9530 - val_loss: 0.2056 - val_accuracy: 0.9798\n",
            "Epoch 13/45\n",
            "1563/1562 - 31s - loss: 0.2932 - accuracy: 0.9542 - val_loss: 0.1979 - val_accuracy: 0.9807\n",
            "Epoch 14/45\n",
            "1563/1562 - 31s - loss: 0.2777 - accuracy: 0.9572 - val_loss: 0.1906 - val_accuracy: 0.9796\n",
            "Epoch 15/45\n",
            "1563/1562 - 31s - loss: 0.2657 - accuracy: 0.9581 - val_loss: 0.1790 - val_accuracy: 0.9824\n",
            "Epoch 16/45\n",
            "1563/1562 - 30s - loss: 0.2614 - accuracy: 0.9604 - val_loss: 0.1772 - val_accuracy: 0.9822\n",
            "Epoch 17/45\n",
            "1563/1562 - 30s - loss: 0.2582 - accuracy: 0.9588 - val_loss: 0.1760 - val_accuracy: 0.9804\n",
            "Epoch 18/45\n",
            "1563/1562 - 31s - loss: 0.2568 - accuracy: 0.9602 - val_loss: 0.1697 - val_accuracy: 0.9830\n",
            "Epoch 19/45\n",
            "1563/1562 - 31s - loss: 0.2427 - accuracy: 0.9630 - val_loss: 0.1658 - val_accuracy: 0.9813\n",
            "Epoch 20/45\n",
            "1563/1562 - 30s - loss: 0.2355 - accuracy: 0.9632 - val_loss: 0.1678 - val_accuracy: 0.9804\n",
            "Epoch 21/45\n",
            "1563/1562 - 30s - loss: 0.2377 - accuracy: 0.9632 - val_loss: 0.1632 - val_accuracy: 0.9820\n",
            "Epoch 22/45\n",
            "1563/1562 - 30s - loss: 0.2289 - accuracy: 0.9643 - val_loss: 0.1507 - val_accuracy: 0.9861\n",
            "Epoch 23/45\n",
            "1563/1562 - 30s - loss: 0.2250 - accuracy: 0.9656 - val_loss: 0.1479 - val_accuracy: 0.9854\n",
            "Epoch 24/45\n",
            "1563/1562 - 30s - loss: 0.2259 - accuracy: 0.9646 - val_loss: 0.1522 - val_accuracy: 0.9858\n",
            "Epoch 25/45\n",
            "1563/1562 - 30s - loss: 0.2186 - accuracy: 0.9661 - val_loss: 0.1534 - val_accuracy: 0.9838\n",
            "Epoch 26/45\n",
            "1563/1562 - 30s - loss: 0.2236 - accuracy: 0.9655 - val_loss: 0.1438 - val_accuracy: 0.9874\n",
            "Epoch 27/45\n",
            "1563/1562 - 32s - loss: 0.2179 - accuracy: 0.9669 - val_loss: 0.1466 - val_accuracy: 0.9855\n",
            "Epoch 28/45\n",
            "1563/1562 - 32s - loss: 0.2131 - accuracy: 0.9676 - val_loss: 0.1435 - val_accuracy: 0.9866\n",
            "Epoch 29/45\n",
            "1563/1562 - 31s - loss: 0.2111 - accuracy: 0.9682 - val_loss: 0.1461 - val_accuracy: 0.9850\n",
            "Epoch 30/45\n",
            "1563/1562 - 31s - loss: 0.2157 - accuracy: 0.9667 - val_loss: 0.1410 - val_accuracy: 0.9849\n",
            "Epoch 31/45\n",
            "1563/1562 - 30s - loss: 0.2093 - accuracy: 0.9682 - val_loss: 0.1403 - val_accuracy: 0.9858\n",
            "Epoch 32/45\n",
            "1563/1562 - 30s - loss: 0.2062 - accuracy: 0.9687 - val_loss: 0.1359 - val_accuracy: 0.9866\n",
            "Epoch 33/45\n",
            "1563/1562 - 30s - loss: 0.2031 - accuracy: 0.9680 - val_loss: 0.1374 - val_accuracy: 0.9858\n",
            "Epoch 34/45\n",
            "1563/1562 - 30s - loss: 0.2027 - accuracy: 0.9692 - val_loss: 0.1345 - val_accuracy: 0.9860\n",
            "Epoch 35/45\n",
            "1563/1562 - 30s - loss: 0.1956 - accuracy: 0.9706 - val_loss: 0.1494 - val_accuracy: 0.9815\n",
            "Epoch 36/45\n",
            "1563/1562 - 30s - loss: 0.2013 - accuracy: 0.9705 - val_loss: 0.1396 - val_accuracy: 0.9848\n"
          ],
          "name": "stdout"
        },
        {
          "output_type": "execute_result",
          "data": {
            "text/plain": [
              "<tensorflow.python.keras.callbacks.History at 0x7f2c900a6e80>"
            ]
          },
          "metadata": {
            "tags": []
          },
          "execution_count": 15
        }
      ]
    },
    {
      "cell_type": "code",
      "metadata": {
        "id": "IgeJs7NYEIm8",
        "colab": {
          "base_uri": "https://localhost:8080/",
          "height": 68
        },
        "outputId": "f7bf704d-d798-4fdd-b77b-35f0ada6dc73"
      },
      "source": [
        "loss, acc = model.evaluate(x, y, batch_size=32)\n",
        "print(\"\\nTest accuracy: %.1f%%\" % (100.0 * acc))"
      ],
      "execution_count": null,
      "outputs": [
        {
          "output_type": "stream",
          "text": [
            "1563/1563 [==============================] - 5s 3ms/step - loss: 0.1265 - accuracy: 0.9927\n",
            "\n",
            "Test accuracy: 99.3%\n"
          ],
          "name": "stdout"
        }
      ]
    },
    {
      "cell_type": "code",
      "metadata": {
        "id": "stmJrY9jo9wU"
      },
      "source": [
        "model.save('model.h5')"
      ],
      "execution_count": null,
      "outputs": []
    }
  ]
}